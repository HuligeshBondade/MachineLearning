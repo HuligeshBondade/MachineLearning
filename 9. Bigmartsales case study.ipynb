{
 "cells": [
  {
   "cell_type": "markdown",
   "id": "e0b9fc05",
   "metadata": {},
   "source": [
    "## Bigmartsales data set\n",
    "0. import libraries\n",
    "1. read the dataset\n",
    "2. check the no of rows and column\n",
    "3. check for no of missing values\n"
   ]
  },
  {
   "cell_type": "code",
   "execution_count": 2,
   "id": "7b623a9f",
   "metadata": {},
   "outputs": [
    {
     "name": "stdout",
     "output_type": "stream",
     "text": [
      "library imported\n"
     ]
    }
   ],
   "source": [
    "import pandas as pd\n",
    "import matplotlib.pyplot as plt\n",
    "import numpy as np\n",
    "\n",
    "from sklearn.impute import SimpleImputer\n",
    "from sklearn.preprocessing import LabelEncoder\n",
    "from sklearn.preprocessing import StandardScaler\n",
    "print('library imported')"
   ]
  },
  {
   "cell_type": "code",
   "execution_count": 3,
   "id": "adc0a8f1",
   "metadata": {},
   "outputs": [
    {
     "data": {
      "text/html": [
       "<div>\n",
       "<style scoped>\n",
       "    .dataframe tbody tr th:only-of-type {\n",
       "        vertical-align: middle;\n",
       "    }\n",
       "\n",
       "    .dataframe tbody tr th {\n",
       "        vertical-align: top;\n",
       "    }\n",
       "\n",
       "    .dataframe thead th {\n",
       "        text-align: right;\n",
       "    }\n",
       "</style>\n",
       "<table border=\"1\" class=\"dataframe\">\n",
       "  <thead>\n",
       "    <tr style=\"text-align: right;\">\n",
       "      <th></th>\n",
       "      <th>Item_Identifier</th>\n",
       "      <th>Item_Weight</th>\n",
       "      <th>Item_Fat_Content</th>\n",
       "      <th>Item_Visibility</th>\n",
       "      <th>Item_Type</th>\n",
       "      <th>Item_MRP</th>\n",
       "      <th>Outlet_Identifier</th>\n",
       "      <th>Outlet_Establishment_Year</th>\n",
       "      <th>Outlet_Size</th>\n",
       "      <th>Outlet_Location_Type</th>\n",
       "      <th>Outlet_Type</th>\n",
       "      <th>Item_Outlet_Sales</th>\n",
       "      <th>Profit</th>\n",
       "    </tr>\n",
       "  </thead>\n",
       "  <tbody>\n",
       "    <tr>\n",
       "      <th>0</th>\n",
       "      <td>FDA15</td>\n",
       "      <td>9.30</td>\n",
       "      <td>Low Fat</td>\n",
       "      <td>0.016047</td>\n",
       "      <td>Dairy</td>\n",
       "      <td>249.8</td>\n",
       "      <td>OUT049</td>\n",
       "      <td>1999</td>\n",
       "      <td>Medium</td>\n",
       "      <td>Tier 2</td>\n",
       "      <td>Supermarket Type1</td>\n",
       "      <td>3735.1380</td>\n",
       "      <td>11.5</td>\n",
       "    </tr>\n",
       "    <tr>\n",
       "      <th>1</th>\n",
       "      <td>DRC01</td>\n",
       "      <td>5.92</td>\n",
       "      <td>Regular</td>\n",
       "      <td>0.019278</td>\n",
       "      <td>Soft Drinks</td>\n",
       "      <td>48.3</td>\n",
       "      <td>OUT018</td>\n",
       "      <td>2009</td>\n",
       "      <td>Medium</td>\n",
       "      <td>Tier 2</td>\n",
       "      <td>Supermarket Type2</td>\n",
       "      <td>443.4228</td>\n",
       "      <td>14.3</td>\n",
       "    </tr>\n",
       "    <tr>\n",
       "      <th>2</th>\n",
       "      <td>FDN15</td>\n",
       "      <td>17.50</td>\n",
       "      <td>Low Fat</td>\n",
       "      <td>0.016760</td>\n",
       "      <td>Meat</td>\n",
       "      <td>141.6</td>\n",
       "      <td>OUT049</td>\n",
       "      <td>1999</td>\n",
       "      <td>Medium</td>\n",
       "      <td>Tier 2</td>\n",
       "      <td>Supermarket Type1</td>\n",
       "      <td>2097.2700</td>\n",
       "      <td>14.5</td>\n",
       "    </tr>\n",
       "    <tr>\n",
       "      <th>3</th>\n",
       "      <td>FDX07</td>\n",
       "      <td>19.20</td>\n",
       "      <td>Regular</td>\n",
       "      <td>0.000000</td>\n",
       "      <td>Fruits and Vegetables</td>\n",
       "      <td>182.1</td>\n",
       "      <td>OUT010</td>\n",
       "      <td>1998</td>\n",
       "      <td>NaN</td>\n",
       "      <td>NaN</td>\n",
       "      <td>Grocery Store</td>\n",
       "      <td>732.3800</td>\n",
       "      <td>13.6</td>\n",
       "    </tr>\n",
       "    <tr>\n",
       "      <th>4</th>\n",
       "      <td>NCD19</td>\n",
       "      <td>8.93</td>\n",
       "      <td>Low Fat</td>\n",
       "      <td>0.000000</td>\n",
       "      <td>Household</td>\n",
       "      <td>53.9</td>\n",
       "      <td>OUT013</td>\n",
       "      <td>1987</td>\n",
       "      <td>High</td>\n",
       "      <td>Tier 3</td>\n",
       "      <td>Supermarket Type1</td>\n",
       "      <td>994.7052</td>\n",
       "      <td>14.1</td>\n",
       "    </tr>\n",
       "  </tbody>\n",
       "</table>\n",
       "</div>"
      ],
      "text/plain": [
       "  Item_Identifier  Item_Weight Item_Fat_Content  Item_Visibility  \\\n",
       "0           FDA15         9.30          Low Fat         0.016047   \n",
       "1           DRC01         5.92          Regular         0.019278   \n",
       "2           FDN15        17.50          Low Fat         0.016760   \n",
       "3           FDX07        19.20          Regular         0.000000   \n",
       "4           NCD19         8.93          Low Fat         0.000000   \n",
       "\n",
       "               Item_Type  Item_MRP Outlet_Identifier  \\\n",
       "0                  Dairy     249.8            OUT049   \n",
       "1            Soft Drinks      48.3            OUT018   \n",
       "2                   Meat     141.6            OUT049   \n",
       "3  Fruits and Vegetables     182.1            OUT010   \n",
       "4              Household      53.9            OUT013   \n",
       "\n",
       "   Outlet_Establishment_Year Outlet_Size Outlet_Location_Type  \\\n",
       "0                       1999      Medium               Tier 2   \n",
       "1                       2009      Medium               Tier 2   \n",
       "2                       1999      Medium               Tier 2   \n",
       "3                       1998         NaN                  NaN   \n",
       "4                       1987        High               Tier 3   \n",
       "\n",
       "         Outlet_Type  Item_Outlet_Sales  Profit  \n",
       "0  Supermarket Type1          3735.1380    11.5  \n",
       "1  Supermarket Type2           443.4228    14.3  \n",
       "2  Supermarket Type1          2097.2700    14.5  \n",
       "3      Grocery Store           732.3800    13.6  \n",
       "4  Supermarket Type1           994.7052    14.1  "
      ]
     },
     "execution_count": 3,
     "metadata": {},
     "output_type": "execute_result"
    }
   ],
   "source": [
    "path = 'C:/Users/Huligesh/Desktop/Abeyaantrix Internship/Dataset/'\n",
    "file_name = 'bigmartsales.csv'\n",
    "df = pd.read_csv(path + file_name)\n",
    "df.head()"
   ]
  },
  {
   "cell_type": "code",
   "execution_count": 10,
   "id": "7f32b582",
   "metadata": {},
   "outputs": [
    {
     "data": {
      "text/plain": [
       "(8523, 13)"
      ]
     },
     "execution_count": 10,
     "metadata": {},
     "output_type": "execute_result"
    }
   ],
   "source": [
    "df.shape"
   ]
  },
  {
   "cell_type": "code",
   "execution_count": 47,
   "id": "44afb0c8",
   "metadata": {},
   "outputs": [
    {
     "data": {
      "text/plain": [
       "Item_Identifier                 0\n",
       "Item_Weight                   749\n",
       "Item_Fat_Content                0\n",
       "Item_Visibility                 0\n",
       "Item_Type                       0\n",
       "Item_MRP                        0\n",
       "Outlet_Identifier               0\n",
       "Outlet_Establishment_Year       0\n",
       "Outlet_Size                  2410\n",
       "Outlet_Location_Type         2050\n",
       "Outlet_Type                     0\n",
       "Item_Outlet_Sales               0\n",
       "Profit                          0\n",
       "dtype: int64"
      ]
     },
     "execution_count": 47,
     "metadata": {},
     "output_type": "execute_result"
    }
   ],
   "source": [
    "# check for missing values, check for std missing data \n",
    "\n",
    "df.isnull().sum()"
   ]
  },
  {
   "cell_type": "code",
   "execution_count": 48,
   "id": "3834bfa1",
   "metadata": {},
   "outputs": [
    {
     "name": "stdout",
     "output_type": "stream",
     "text": [
      "Index(['Item_Identifier', 'Item_Weight', 'Item_Fat_Content', 'Item_Visibility',\n",
      "       'Item_Type', 'Item_MRP', 'Outlet_Identifier',\n",
      "       'Outlet_Establishment_Year', 'Outlet_Size', 'Outlet_Location_Type',\n",
      "       'Outlet_Type', 'Item_Outlet_Sales', 'Profit'],\n",
      "      dtype='object')\n",
      "Item_Identifier ['FDA15' 'DRC01' 'FDN15' ... 'NCF55' 'NCW30' 'NCW05']\n",
      "\n",
      "Item_Weight [ 9.3    5.92  17.5   19.2    8.93  10.395 13.65     nan 16.2   11.8\n",
      " 18.5   15.1   17.6   16.35   9.    13.35  18.85  14.6   13.85  13.\n",
      "  7.645 11.65   5.925 19.25  18.6   18.7   17.85  10.     0.     8.85\n",
      "  9.8   13.6   21.35  12.15   6.42  19.6   15.85   7.39  10.195  9.895\n",
      " 10.895  7.905  9.195  8.365  7.97  17.7   19.35   8.645 15.6   18.25\n",
      "  7.855  7.825  8.39  12.85  19.     5.905  7.76  16.75  15.5    6.055\n",
      "  6.305 20.85  20.75   8.895 19.7    8.75  13.3    8.31  19.75  17.1\n",
      " 10.5    6.635 14.15   8.89   9.1    7.5   16.85   7.485 11.6   12.65\n",
      " 20.25   8.6   12.6    8.88  20.5   13.5    7.235  6.92   8.02  12.8\n",
      " 16.6   14.    16.    21.25   7.365 18.35   5.465  7.27   6.155 19.5\n",
      " 15.2   14.5   13.1   12.3   11.1   11.3    5.75  11.35   6.525 10.3\n",
      "  5.78  11.85  18.75   5.26  16.1    9.5   13.8   14.65   6.67   6.11\n",
      " 17.2    6.32   4.88   5.425 14.1    7.55  17.25  12.    10.1    7.785\n",
      " 13.15   8.5    7.63   9.285  7.975 15.7    8.985 20.35   6.59  19.85\n",
      "  6.26  18.2    8.695  7.075  8.195  7.09   6.095  6.15   9.395 15.75\n",
      "  7.475  6.445 19.1   15.    16.7    7.07   6.48   9.695 11.15   9.6\n",
      " 20.7    5.5    7.895 17.35   7.285  6.17  11.395  7.71  12.1   14.35\n",
      "  8.1    8.05  16.5    6.785  7.575  7.47  15.25   7.605 18.    21.2\n",
      "  8.97  10.6    6.865 10.8   15.15  18.1    6.655 20.1    7.935 15.35\n",
      " 12.35   6.85   8.775 14.85   7.84  12.5    8.325  5.765  5.985 14.3\n",
      "  6.135  8.51   6.65   5.695  6.36   8.3    7.56   8.71   6.695 14.8\n",
      " 17.75   8.575  6.57   8.68   5.63   9.13   6.715  5.82   7.93   5.\n",
      "  7.445  6.675  8.18   6.98   7.435 20.6    8.355  8.975 20.2    5.655\n",
      "  5.175 20.     7.67   4.785  8.395  6.175  8.21   5.845  7.17   8.785\n",
      "  7.89   5.32   5.03   8.945  6.28   7.565  9.31   7.02   5.46   6.13\n",
      "  6.55  17.    16.25   5.15   7.865  6.575  7.06   5.785  7.42   6.235\n",
      "  6.75   5.86   5.035  6.38   5.675 11.5   21.    21.1    4.61   7.\n",
      "  6.405 14.7    7.68   8.185  8.655 10.85   8.42   7.85   4.59   7.51\n",
      " 11.     6.71  14.75   7.59   5.155  6.365  8.235  5.365  8.485  7.535\n",
      "  4.92   6.385  8.26   7.945  8.63   9.21   6.965  8.905  7.21   7.3\n",
      "  9.27  10.695  6.215  7.405  7.72   6.115  6.035  6.78  15.3    7.105\n",
      "  7.52   4.805  6.425  7.6    6.61   7.325  8.115  5.94   5.635  7.35\n",
      "  5.825  6.63   7.05   8.315  6.8    7.035  8.96   5.51   8.43   8.27\n",
      "  7.81   6.885  5.44   5.405  4.635 10.65   5.735  6.465  8.84   7.75\n",
      "  6.765  9.065  7.655  4.615  8.76   7.1    6.195  5.615  8.52   7.26\n",
      "  6.825  5.325  5.59   5.88   5.19   6.985  9.06   6.69   8.615  7.275\n",
      "  6.96   9.17   8.155  5.73   8.935  8.92   7.36   7.64   5.34   7.22\n",
      "  6.615  6.76   6.3    5.98   8.06   6.44   5.095  8.8    6.325  7.31\n",
      "  9.035  9.105  7.145  4.905  4.555  8.     7.315  6.89   5.945  6.86\n",
      "  6.935  6.03   7.725  5.885  7.155  6.46   5.48   8.01   5.8    5.305\n",
      "  6.905  7.96   5.11   8.77   7.685  8.275  8.38   8.35   9.42   6.775\n",
      "  6.4    6.895  5.485  6.52   8.67   5.21   5.4  ]\n",
      "\n",
      "Item_Fat_Content ['Low Fat' 'Regular' 'low fat' 'LF' 'reg']\n",
      "\n",
      "Item_Visibility [0.0160473  0.01927822 0.01676007 ... 0.03518627 0.14522065 0.04487828]\n",
      "\n",
      "Item_Type ['Dairy' 'Soft Drinks' 'Meat' 'Fruits and Vegetables' 'Household'\n",
      " 'Baking Goods' 'Snack Foods' 'Frozen Foods' 'Breakfast'\n",
      " 'Health and Hygiene' 'Hard Drinks' 'Canned' 'Breads' 'Starchy Foods'\n",
      " 'Others' 'Seafood']\n",
      "\n",
      "Item_MRP [249.8  48.3 141.6 ...  64.4  51.8  99.1]\n",
      "\n",
      "Outlet_Identifier ['OUT049' 'OUT018' 'OUT010' 'OUT013' 'OUT027' 'OUT045' 'OUT017' 'OUT046'\n",
      " 'OUT035' 'OUT019']\n",
      "\n",
      "Outlet_Establishment_Year [1999 2009 1998 1987 1985 2002 2007 1997 2004]\n",
      "\n",
      "Outlet_Size ['Medium' nan 'High' 'Small']\n",
      "\n",
      "Outlet_Location_Type ['Tier 2' nan 'Tier 3' '  --' 'Tier1' 'na' '  -' '?' 'NAN']\n",
      "\n",
      "Outlet_Type ['Supermarket Type1' 'Supermarket Type2' 'Grocery Store'\n",
      " 'Supermarket Type3']\n",
      "\n",
      "Item_Outlet_Sales [3735.138   443.4228 2097.27   ... 7182.6504 3608.636  2778.3834]\n",
      "\n",
      "Profit [11.5 14.3 14.5 13.6 14.1  9.5  8.8 13.3 13.  14.6 13.5  8.6 14.8 14.4\n",
      " 14.  14.7 13.7 10.8 11.7 13.4 12.4 14.2  6.9 12.8  7.4 11.2 13.9 12.6\n",
      "  9.7 10.6 12.7 13.8 11.  13.2 13.1 11.3 12.5  7.7 10.5 11.8 12.9 10.9\n",
      " 12.3 10.3 12.1 12.   3.2 12.2  8.9  0.2  8.  11.1 10.  11.6 11.4  6.8\n",
      "  7.9  9.   2.7 14.9  8.2  8.4  1.7  6.7  5.7 11.9  6.1 10.7  9.4 10.2\n",
      "  5.2 10.4  9.3  2.8  9.8 10.1  7.1  2.3  1.2  9.6  0.9  7.5  9.1  4.7\n",
      "  0.8 16.7  9.9  5.8  6.4  7.6  6.3  4.8  3.4  4.   8.1  8.3  1.4  5.5\n",
      "  4.2  8.7  1.9  4.5  6.5  2.1  3.5  5.6  1.3  4.6  7.3  7.   6.2  9.2\n",
      " 24.   7.2  3.8  4.9  7.8  2.4  1.5  6.6  6.   5.9 22.2  3.7  4.3  0.5\n",
      " 21.   0.1  0.3  3.1  3.9  2.   8.5  5.3 17.6  5.1  2.9 15.   4.1 23.5]\n",
      "\n"
     ]
    }
   ],
   "source": [
    "# check for the unique value present in each column\n",
    "\n",
    "print(df.columns)\n",
    "for col in df.columns:\n",
    "    print(col, df[col].unique())\n",
    "    print()\n",
    "    \n",
    "# item fat content has types, which needs to be corrected\n",
    "# outlet size has non std missing value\n",
    "# outlet location type has non std missing value\n"
   ]
  },
  {
   "cell_type": "code",
   "execution_count": 49,
   "id": "b49d428c",
   "metadata": {},
   "outputs": [
    {
     "data": {
      "text/plain": [
       "array(['Low Fat', 'Regular', 'low fat', 'LF', 'reg'], dtype=object)"
      ]
     },
     "execution_count": 49,
     "metadata": {},
     "output_type": "execute_result"
    }
   ],
   "source": [
    "df['Item_Fat_Content'].unique()"
   ]
  },
  {
   "cell_type": "code",
   "execution_count": 50,
   "id": "8be2c4a6",
   "metadata": {},
   "outputs": [
    {
     "data": {
      "text/plain": [
       "array(['Low Fat', 'Regular', 'Low fat'], dtype=object)"
      ]
     },
     "execution_count": 50,
     "metadata": {},
     "output_type": "execute_result"
    }
   ],
   "source": [
    "# preprocesssing on the item fat column\n",
    "\n",
    "df1 = df.copy()\n",
    "df1.Item_Fat_Content.replace('low fat', 'Low fat', inplace = True )\n",
    "df1.Item_Fat_Content.replace('LF', 'Low fat', inplace = True )\n",
    "df1.Item_Fat_Content.replace('reg', 'Regular', inplace = True )\n",
    "df1.Item_Fat_Content.unique() "
   ]
  },
  {
   "cell_type": "code",
   "execution_count": 51,
   "id": "4037f3dd",
   "metadata": {},
   "outputs": [
    {
     "data": {
      "text/plain": [
       "Medium    2793\n",
       "Small     2388\n",
       "High       932\n",
       "Name: Outlet_Size, dtype: int64"
      ]
     },
     "execution_count": 51,
     "metadata": {},
     "output_type": "execute_result"
    }
   ],
   "source": [
    "# convert non std missing valuess to std missing values\n",
    "\n",
    "df1.Outlet_Size.value_counts()"
   ]
  },
  {
   "cell_type": "code",
   "execution_count": 52,
   "id": "69e774e9",
   "metadata": {},
   "outputs": [],
   "source": [
    "df1.Outlet_Size.replace(np.nan, 'Medium', inplace = True)"
   ]
  },
  {
   "cell_type": "code",
   "execution_count": 53,
   "id": "2c9dca50",
   "metadata": {},
   "outputs": [
    {
     "data": {
      "text/plain": [
       "array(['Medium', 'High', 'Small'], dtype=object)"
      ]
     },
     "execution_count": 53,
     "metadata": {},
     "output_type": "execute_result"
    }
   ],
   "source": [
    "df1.Outlet_Size.unique()"
   ]
  },
  {
   "cell_type": "code",
   "execution_count": 54,
   "id": "b22ae8de",
   "metadata": {},
   "outputs": [],
   "source": [
    "# SI = SimpleImputer(misssing_values = np.NaN, strategy = 'mode') using sklearn\n",
    "# df1['Outlet_Size'] = SI.fit_transform(df1['Outlet_Type']) using pandas"
   ]
  },
  {
   "cell_type": "code",
   "execution_count": 55,
   "id": "91a2d111",
   "metadata": {},
   "outputs": [
    {
     "data": {
      "text/plain": [
       "array(['Tier 2', nan, 'Tier 3', '  --', 'Tier1', 'na', '  -', '?', 'NAN'],\n",
       "      dtype=object)"
      ]
     },
     "execution_count": 55,
     "metadata": {},
     "output_type": "execute_result"
    }
   ],
   "source": [
    "df1.Outlet_Location_Type.unique()"
   ]
  },
  {
   "cell_type": "code",
   "execution_count": 56,
   "id": "99e93194",
   "metadata": {},
   "outputs": [
    {
     "data": {
      "text/plain": [
       "array(['Tier 2', nan, 'Tier 3', 'Tier1'], dtype=object)"
      ]
     },
     "execution_count": 56,
     "metadata": {},
     "output_type": "execute_result"
    }
   ],
   "source": [
    "# converting non std missing values to std missing values\n",
    "\n",
    "nsm = [ '  --', 'na', '  -', '?', 'NAN']\n",
    "for mv in nsm:\n",
    "    df1.Outlet_Location_Type.replace(mv, np.nan, inplace = True)\n",
    "df1.Outlet_Location_Type.unique()"
   ]
  },
  {
   "cell_type": "code",
   "execution_count": 57,
   "id": "d24fe2ad",
   "metadata": {},
   "outputs": [
    {
     "data": {
      "text/plain": [
       "array(['Tier 2', 'Tier 3', 'Tier1'], dtype=object)"
      ]
     },
     "execution_count": 57,
     "metadata": {},
     "output_type": "execute_result"
    }
   ],
   "source": [
    "SI = SimpleImputer(missing_values = np.nan, strategy = 'most_frequent')\n",
    "df1.iloc[:,-4:-3] = SI.fit_transform(df1.iloc[:,-4:-3])\n",
    "df1.Outlet_Location_Type.unique()"
   ]
  },
  {
   "cell_type": "code",
   "execution_count": 58,
   "id": "039a5d2c",
   "metadata": {},
   "outputs": [
    {
     "data": {
      "text/plain": [
       "Item_Identifier                0\n",
       "Item_Weight                  749\n",
       "Item_Fat_Content               0\n",
       "Item_Visibility                0\n",
       "Item_Type                      0\n",
       "Item_MRP                       0\n",
       "Outlet_Identifier              0\n",
       "Outlet_Establishment_Year      0\n",
       "Outlet_Size                    0\n",
       "Outlet_Location_Type           0\n",
       "Outlet_Type                    0\n",
       "Item_Outlet_Sales              0\n",
       "Profit                         0\n",
       "dtype: int64"
      ]
     },
     "execution_count": 58,
     "metadata": {},
     "output_type": "execute_result"
    }
   ],
   "source": [
    "df1.isnull().sum()"
   ]
  },
  {
   "cell_type": "code",
   "execution_count": 59,
   "id": "a2db84ca",
   "metadata": {},
   "outputs": [],
   "source": [
    "SI = SimpleImputer(missing_values = np.nan, strategy = 'mean')\n",
    "df1.iloc[:,1:2] = SI.fit_transform(df1.iloc[:,1:2])"
   ]
  },
  {
   "cell_type": "code",
   "execution_count": 60,
   "id": "f9676f6b",
   "metadata": {},
   "outputs": [
    {
     "data": {
      "text/plain": [
       "Item_Identifier              0\n",
       "Item_Weight                  0\n",
       "Item_Fat_Content             0\n",
       "Item_Visibility              0\n",
       "Item_Type                    0\n",
       "Item_MRP                     0\n",
       "Outlet_Identifier            0\n",
       "Outlet_Establishment_Year    0\n",
       "Outlet_Size                  0\n",
       "Outlet_Location_Type         0\n",
       "Outlet_Type                  0\n",
       "Item_Outlet_Sales            0\n",
       "Profit                       0\n",
       "dtype: int64"
      ]
     },
     "execution_count": 60,
     "metadata": {},
     "output_type": "execute_result"
    }
   ],
   "source": [
    "df1.isnull().sum()"
   ]
  },
  {
   "cell_type": "code",
   "execution_count": 61,
   "id": "1b8a97bc",
   "metadata": {},
   "outputs": [
    {
     "data": {
      "text/html": [
       "<div>\n",
       "<style scoped>\n",
       "    .dataframe tbody tr th:only-of-type {\n",
       "        vertical-align: middle;\n",
       "    }\n",
       "\n",
       "    .dataframe tbody tr th {\n",
       "        vertical-align: top;\n",
       "    }\n",
       "\n",
       "    .dataframe thead th {\n",
       "        text-align: right;\n",
       "    }\n",
       "</style>\n",
       "<table border=\"1\" class=\"dataframe\">\n",
       "  <thead>\n",
       "    <tr style=\"text-align: right;\">\n",
       "      <th></th>\n",
       "      <th>Item_Weight</th>\n",
       "      <th>Item_Visibility</th>\n",
       "      <th>Item_MRP</th>\n",
       "      <th>Outlet_Establishment_Year</th>\n",
       "      <th>Item_Outlet_Sales</th>\n",
       "      <th>Profit</th>\n",
       "    </tr>\n",
       "  </thead>\n",
       "  <tbody>\n",
       "    <tr>\n",
       "      <th>count</th>\n",
       "      <td>7774.000000</td>\n",
       "      <td>8523.000000</td>\n",
       "      <td>8523.000000</td>\n",
       "      <td>8523.000000</td>\n",
       "      <td>8523.000000</td>\n",
       "      <td>8523.000000</td>\n",
       "    </tr>\n",
       "    <tr>\n",
       "      <th>mean</th>\n",
       "      <td>11.676740</td>\n",
       "      <td>0.066132</td>\n",
       "      <td>140.998838</td>\n",
       "      <td>1997.831867</td>\n",
       "      <td>2181.288914</td>\n",
       "      <td>13.414514</td>\n",
       "    </tr>\n",
       "    <tr>\n",
       "      <th>std</th>\n",
       "      <td>5.776851</td>\n",
       "      <td>0.051598</td>\n",
       "      <td>62.258099</td>\n",
       "      <td>8.371760</td>\n",
       "      <td>1706.499616</td>\n",
       "      <td>1.701840</td>\n",
       "    </tr>\n",
       "    <tr>\n",
       "      <th>min</th>\n",
       "      <td>0.000000</td>\n",
       "      <td>0.000000</td>\n",
       "      <td>31.300000</td>\n",
       "      <td>1985.000000</td>\n",
       "      <td>33.290000</td>\n",
       "      <td>0.100000</td>\n",
       "    </tr>\n",
       "    <tr>\n",
       "      <th>25%</th>\n",
       "      <td>7.720000</td>\n",
       "      <td>0.026989</td>\n",
       "      <td>93.800000</td>\n",
       "      <td>1987.000000</td>\n",
       "      <td>834.247400</td>\n",
       "      <td>13.150000</td>\n",
       "    </tr>\n",
       "    <tr>\n",
       "      <th>50%</th>\n",
       "      <td>11.800000</td>\n",
       "      <td>0.053931</td>\n",
       "      <td>142.700000</td>\n",
       "      <td>1999.000000</td>\n",
       "      <td>1794.331000</td>\n",
       "      <td>13.900000</td>\n",
       "    </tr>\n",
       "    <tr>\n",
       "      <th>75%</th>\n",
       "      <td>16.500000</td>\n",
       "      <td>0.094585</td>\n",
       "      <td>185.650000</td>\n",
       "      <td>2004.000000</td>\n",
       "      <td>3101.296400</td>\n",
       "      <td>14.300000</td>\n",
       "    </tr>\n",
       "    <tr>\n",
       "      <th>max</th>\n",
       "      <td>21.350000</td>\n",
       "      <td>0.328391</td>\n",
       "      <td>266.900000</td>\n",
       "      <td>2009.000000</td>\n",
       "      <td>13086.964800</td>\n",
       "      <td>24.000000</td>\n",
       "    </tr>\n",
       "  </tbody>\n",
       "</table>\n",
       "</div>"
      ],
      "text/plain": [
       "       Item_Weight  Item_Visibility     Item_MRP  Outlet_Establishment_Year  \\\n",
       "count  7774.000000      8523.000000  8523.000000                8523.000000   \n",
       "mean     11.676740         0.066132   140.998838                1997.831867   \n",
       "std       5.776851         0.051598    62.258099                   8.371760   \n",
       "min       0.000000         0.000000    31.300000                1985.000000   \n",
       "25%       7.720000         0.026989    93.800000                1987.000000   \n",
       "50%      11.800000         0.053931   142.700000                1999.000000   \n",
       "75%      16.500000         0.094585   185.650000                2004.000000   \n",
       "max      21.350000         0.328391   266.900000                2009.000000   \n",
       "\n",
       "       Item_Outlet_Sales       Profit  \n",
       "count        8523.000000  8523.000000  \n",
       "mean         2181.288914    13.414514  \n",
       "std          1706.499616     1.701840  \n",
       "min            33.290000     0.100000  \n",
       "25%           834.247400    13.150000  \n",
       "50%          1794.331000    13.900000  \n",
       "75%          3101.296400    14.300000  \n",
       "max         13086.964800    24.000000  "
      ]
     },
     "execution_count": 61,
     "metadata": {},
     "output_type": "execute_result"
    }
   ],
   "source": [
    "df.describe()"
   ]
  },
  {
   "cell_type": "code",
   "execution_count": 66,
   "id": "49236ef7",
   "metadata": {},
   "outputs": [
    {
     "data": {
      "image/png": "[encoded data removed]",
      "text/plain": [
       "<Figure size 640x480 with 1 Axes>"
      ]
     },
     "metadata": {},
     "output_type": "display_data"
    },
    {
     "name": "stdout",
     "output_type": "stream",
     "text": [
      "more than 60% of product are priced less than 15 dollars \n",
      "        and price tag between 50 to 100  dollars has th highest no. of product listed\n"
     ]
    },
    {
     "data": {
      "image/png": "[encoded data removed]",
      "text/plain": [
       "<Figure size 640x480 with 1 Axes>"
      ]
     },
     "metadata": {},
     "output_type": "display_data"
    },
    {
     "name": "stdout",
     "output_type": "stream",
     "text": [
      " Item weight is distrubuted mostly normal in all item weight category except almost 50% \n",
      "            products weight less than 11 kg (which is average )\n"
     ]
    },
    {
     "data": {
      "image/png": "[encoded data removed]",
      "text/plain": [
       "<Figure size 640x480 with 1 Axes>"
      ]
     },
     "metadata": {},
     "output_type": "display_data"
    }
   ],
   "source": [
    "# few visualization like histogram of mrp, item weight, profit\n",
    "# bar chart of year of establishment vs no shop in that particular year\n",
    "\n",
    "plt.hist(df1.Item_MRP, bins = 5)\n",
    "plt.show()\n",
    "print(\"\"\"more than 60% of product are priced less than 15 dollars \n",
    "        and price tag between 50 to 100  dollars has th highest no. of product listed\"\"\")\n",
    "\n",
    "plt.hist(df1.Item_Weight, bins = 10)\n",
    "plt.show()\n",
    "print(\"\"\" Item weight is distrubuted mostly normal in all item weight category except almost 50% \n",
    "            products weight less than 11 kg (which is average )\"\"\")\n",
    "\n",
    "\n",
    "plt.hist(df.Profit)\n",
    "plt.show()\n",
    "\n"
   ]
  },
  {
   "cell_type": "code",
   "execution_count": 84,
   "id": "0a178e7b",
   "metadata": {},
   "outputs": [
    {
     "data": {
      "text/plain": [
       "Index(['1985', '1987', '1999', '1997', '2004', '2002', '2009', '2007', '1998'], dtype='object')"
      ]
     },
     "execution_count": 84,
     "metadata": {},
     "output_type": "execute_result"
    }
   ],
   "source": [
    "df.Outlet_Establishment_Year.value_counts().keys().astype('str')"
   ]
  },
  {
   "cell_type": "code",
   "execution_count": 80,
   "id": "2f199dc2",
   "metadata": {},
   "outputs": [
    {
     "data": {
      "text/plain": [
       "array([1999, 2009, 1998, 1987, 1985, 2002, 2007, 1997, 2004], dtype=int64)"
      ]
     },
     "execution_count": 80,
     "metadata": {},
     "output_type": "execute_result"
    }
   ],
   "source": [
    "df1.Outlet_Establishment_Year.unique()"
   ]
  },
  {
   "cell_type": "code",
   "execution_count": 82,
   "id": "7d734ac4",
   "metadata": {},
   "outputs": [
    {
     "data": {
      "image/png": "[encoded data removed]",
      "text/plain": [
       "<Figure size 640x480 with 1 Axes>"
      ]
     },
     "metadata": {},
     "output_type": "display_data"
    }
   ],
   "source": [
    "plt.bar(df1.Outlet_Establishment_Year.value_counts().keys().astype('str'), df1.Outlet_Establishment_Year.unique())\n",
    "plt.show()"
   ]
  },
  {
   "cell_type": "code",
   "execution_count": null,
   "id": "52e00ad3",
   "metadata": {},
   "outputs": [],
   "source": [
    "# item label encoding\n",
    "# item type: one hot encoding\n",
    "# outlet identifier: discard\n",
    "# outlet size: label or ordinal encoding\n",
    "# outlet type:\n",
    "# scalling numeric value\n"
   ]
  },
  {
   "cell_type": "code",
   "execution_count": 87,
   "id": "4835d293",
   "metadata": {},
   "outputs": [],
   "source": [
    "df_num = df.select_dtypes(include = np.number)\n",
    "df_cat = df.select_dtypes(exclude = np.number)"
   ]
  },
  {
   "cell_type": "code",
   "execution_count": 88,
   "id": "01a66170",
   "metadata": {},
   "outputs": [
    {
     "name": "stderr",
     "output_type": "stream",
     "text": [
      "C:\\Users\\Huligesh\\AppData\\Local\\Temp\\ipykernel_14072\\9141533.py:3: DeprecationWarning: In a future version, `df.iloc[:, i] = newvals` will attempt to set the values inplace instead of always setting a new array. To retain the old behavior, use either `df[df.columns[i]] = newvals` or, if columns are non-unique, `df.isetitem(i, newvals)`\n",
      "  df_num.iloc[:,:] = Imputer.fit_transform(df_num.iloc[:,:])\n"
     ]
    },
    {
     "data": {
      "text/html": [
       "<div>\n",
       "<style scoped>\n",
       "    .dataframe tbody tr th:only-of-type {\n",
       "        vertical-align: middle;\n",
       "    }\n",
       "\n",
       "    .dataframe tbody tr th {\n",
       "        vertical-align: top;\n",
       "    }\n",
       "\n",
       "    .dataframe thead th {\n",
       "        text-align: right;\n",
       "    }\n",
       "</style>\n",
       "<table border=\"1\" class=\"dataframe\">\n",
       "  <thead>\n",
       "    <tr style=\"text-align: right;\">\n",
       "      <th></th>\n",
       "      <th>Item_Weight</th>\n",
       "      <th>Item_Visibility</th>\n",
       "      <th>Item_MRP</th>\n",
       "      <th>Outlet_Establishment_Year</th>\n",
       "      <th>Item_Outlet_Sales</th>\n",
       "      <th>Profit</th>\n",
       "    </tr>\n",
       "  </thead>\n",
       "  <tbody>\n",
       "    <tr>\n",
       "      <th>0</th>\n",
       "      <td>9.300</td>\n",
       "      <td>0.016047</td>\n",
       "      <td>249.8</td>\n",
       "      <td>1999.0</td>\n",
       "      <td>3735.1380</td>\n",
       "      <td>11.5</td>\n",
       "    </tr>\n",
       "    <tr>\n",
       "      <th>1</th>\n",
       "      <td>5.920</td>\n",
       "      <td>0.019278</td>\n",
       "      <td>48.3</td>\n",
       "      <td>2009.0</td>\n",
       "      <td>443.4228</td>\n",
       "      <td>14.3</td>\n",
       "    </tr>\n",
       "    <tr>\n",
       "      <th>2</th>\n",
       "      <td>17.500</td>\n",
       "      <td>0.016760</td>\n",
       "      <td>141.6</td>\n",
       "      <td>1999.0</td>\n",
       "      <td>2097.2700</td>\n",
       "      <td>14.5</td>\n",
       "    </tr>\n",
       "    <tr>\n",
       "      <th>3</th>\n",
       "      <td>19.200</td>\n",
       "      <td>0.000000</td>\n",
       "      <td>182.1</td>\n",
       "      <td>1998.0</td>\n",
       "      <td>732.3800</td>\n",
       "      <td>13.6</td>\n",
       "    </tr>\n",
       "    <tr>\n",
       "      <th>4</th>\n",
       "      <td>8.930</td>\n",
       "      <td>0.000000</td>\n",
       "      <td>53.9</td>\n",
       "      <td>1987.0</td>\n",
       "      <td>994.7052</td>\n",
       "      <td>14.1</td>\n",
       "    </tr>\n",
       "    <tr>\n",
       "      <th>...</th>\n",
       "      <td>...</td>\n",
       "      <td>...</td>\n",
       "      <td>...</td>\n",
       "      <td>...</td>\n",
       "      <td>...</td>\n",
       "      <td>...</td>\n",
       "    </tr>\n",
       "    <tr>\n",
       "      <th>8518</th>\n",
       "      <td>6.865</td>\n",
       "      <td>0.056783</td>\n",
       "      <td>214.5</td>\n",
       "      <td>1987.0</td>\n",
       "      <td>2778.3834</td>\n",
       "      <td>14.1</td>\n",
       "    </tr>\n",
       "    <tr>\n",
       "      <th>8519</th>\n",
       "      <td>8.380</td>\n",
       "      <td>0.046982</td>\n",
       "      <td>108.2</td>\n",
       "      <td>2002.0</td>\n",
       "      <td>549.2850</td>\n",
       "      <td>14.2</td>\n",
       "    </tr>\n",
       "    <tr>\n",
       "      <th>8520</th>\n",
       "      <td>10.600</td>\n",
       "      <td>0.035186</td>\n",
       "      <td>85.1</td>\n",
       "      <td>2004.0</td>\n",
       "      <td>1193.1136</td>\n",
       "      <td>9.5</td>\n",
       "    </tr>\n",
       "    <tr>\n",
       "      <th>8521</th>\n",
       "      <td>7.210</td>\n",
       "      <td>0.145221</td>\n",
       "      <td>103.1</td>\n",
       "      <td>2009.0</td>\n",
       "      <td>1845.5976</td>\n",
       "      <td>14.2</td>\n",
       "    </tr>\n",
       "    <tr>\n",
       "      <th>8522</th>\n",
       "      <td>14.800</td>\n",
       "      <td>0.044878</td>\n",
       "      <td>75.5</td>\n",
       "      <td>1997.0</td>\n",
       "      <td>765.6700</td>\n",
       "      <td>14.6</td>\n",
       "    </tr>\n",
       "  </tbody>\n",
       "</table>\n",
       "<p>8523 rows × 6 columns</p>\n",
       "</div>"
      ],
      "text/plain": [
       "      Item_Weight  Item_Visibility  Item_MRP  Outlet_Establishment_Year  \\\n",
       "0           9.300         0.016047     249.8                     1999.0   \n",
       "1           5.920         0.019278      48.3                     2009.0   \n",
       "2          17.500         0.016760     141.6                     1999.0   \n",
       "3          19.200         0.000000     182.1                     1998.0   \n",
       "4           8.930         0.000000      53.9                     1987.0   \n",
       "...           ...              ...       ...                        ...   \n",
       "8518        6.865         0.056783     214.5                     1987.0   \n",
       "8519        8.380         0.046982     108.2                     2002.0   \n",
       "8520       10.600         0.035186      85.1                     2004.0   \n",
       "8521        7.210         0.145221     103.1                     2009.0   \n",
       "8522       14.800         0.044878      75.5                     1997.0   \n",
       "\n",
       "      Item_Outlet_Sales  Profit  \n",
       "0             3735.1380    11.5  \n",
       "1              443.4228    14.3  \n",
       "2             2097.2700    14.5  \n",
       "3              732.3800    13.6  \n",
       "4              994.7052    14.1  \n",
       "...                 ...     ...  \n",
       "8518          2778.3834    14.1  \n",
       "8519           549.2850    14.2  \n",
       "8520          1193.1136     9.5  \n",
       "8521          1845.5976    14.2  \n",
       "8522           765.6700    14.6  \n",
       "\n",
       "[8523 rows x 6 columns]"
      ]
     },
     "execution_count": 88,
     "metadata": {},
     "output_type": "execute_result"
    }
   ],
   "source": [
    "from sklearn.impute import SimpleImputer\n",
    "Imputer = SimpleImputer(missing_values = np.nan, strategy = 'mean')\n",
    "df_num.iloc[:,:] = Imputer.fit_transform(df_num.iloc[:,:])\n",
    "df_num"
   ]
  },
  {
   "cell_type": "code",
   "execution_count": null,
   "id": "60ce49ce",
   "metadata": {},
   "outputs": [],
   "source": []
  }
 ],
 "metadata": {
  "kernelspec": {
   "display_name": "Python 3 (ipykernel)",
   "language": "python",
   "name": "python3"
  },
  "language_info": {
   "codemirror_mode": {
    "name": "ipython",
    "version": 3
   },
   "file_extension": ".py",
   "mimetype": "text/x-python",
   "name": "python",
   "nbconvert_exporter": "python",
   "pygments_lexer": "ipython3",
   "version": "3.10.9"
  }
 },
 "nbformat": 4,
 "nbformat_minor": 5
}
