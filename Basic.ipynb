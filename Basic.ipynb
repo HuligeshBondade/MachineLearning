{
 "cells": [
  {
   "cell_type": "code",
   "execution_count": 1,
   "id": "2ae4846a",
   "metadata": {},
   "outputs": [],
   "source": [
    "ls1 = [23,42,'ram','raj']"
   ]
  },
  {
   "cell_type": "code",
   "execution_count": 3,
   "id": "fd271dd4",
   "metadata": {},
   "outputs": [
    {
     "name": "stdout",
     "output_type": "stream",
     "text": [
      "[23, 42]\n"
     ]
    }
   ],
   "source": [
    "print(ls1[0:2])"
   ]
  },
  {
   "cell_type": "code",
   "execution_count": 8,
   "id": "c77bebfb",
   "metadata": {},
   "outputs": [
    {
     "name": "stdout",
     "output_type": "stream",
     "text": [
      "['ram', 'raj']\n"
     ]
    }
   ],
   "source": [
    "print(ls1[-2:])"
   ]
  },
  {
   "cell_type": "code",
   "execution_count": 10,
   "id": "3d3b0274",
   "metadata": {},
   "outputs": [
    {
     "name": "stdout",
     "output_type": "stream",
     "text": [
      "['raj', 'ram']\n"
     ]
    }
   ],
   "source": [
    "print(ls1[3:1:-1])"
   ]
  },
  {
   "cell_type": "code",
   "execution_count": 11,
   "id": "dc269cd0",
   "metadata": {},
   "outputs": [
    {
     "name": "stdout",
     "output_type": "stream",
     "text": [
      "['raj', 'ram', 42, 23]\n"
     ]
    }
   ],
   "source": [
    "print(ls1[::-1])"
   ]
  },
  {
   "cell_type": "code",
   "execution_count": 13,
   "id": "c1a732a6",
   "metadata": {},
   "outputs": [
    {
     "data": {
      "text/plain": [
       "'raj'"
      ]
     },
     "execution_count": 13,
     "metadata": {},
     "output_type": "execute_result"
    }
   ],
   "source": [
    "ls1[3]"
   ]
  },
  {
   "cell_type": "code",
   "execution_count": 15,
   "id": "8886abbe",
   "metadata": {},
   "outputs": [
    {
     "data": {
      "text/plain": [
       "'jar'"
      ]
     },
     "execution_count": 15,
     "metadata": {},
     "output_type": "execute_result"
    }
   ],
   "source": [
    "ls1[3][::-1]"
   ]
  },
  {
   "cell_type": "code",
   "execution_count": 18,
   "id": "2dcc531e",
   "metadata": {},
   "outputs": [
    {
     "data": {
      "text/plain": [
       "2"
      ]
     },
     "execution_count": 18,
     "metadata": {},
     "output_type": "execute_result"
    }
   ],
   "source": [
    "#tuple is also a iterable object similar to list,\n",
    "#except the content of tuple can not be modified\n",
    "\n",
    "t = (2,3,4,5)\n",
    "t[0]\n",
    "\n",
    "# tuple are faster compared to list\n",
    "# tuples have fever methods compared to list\n"
   ]
  },
  {
   "cell_type": "code",
   "execution_count": 63,
   "id": "291bda3c",
   "metadata": {},
   "outputs": [
    {
     "name": "stdout",
     "output_type": "stream",
     "text": [
      "[4, 6, 8, 2, 4, 6]\n"
     ]
    }
   ],
   "source": [
    "m = [2,3,4,1,2,3]\n",
    "\n",
    "ls2 = []\n",
    "\n",
    "for i in m:\n",
    "    ls2.append(i*2)\n",
    "print(ls2)"
   ]
  },
  {
   "cell_type": "code",
   "execution_count": 88,
   "id": "02a98def",
   "metadata": {},
   "outputs": [
    {
     "name": "stdout",
     "output_type": "stream",
     "text": [
      "[4, 16, 36, 64]\n"
     ]
    }
   ],
   "source": [
    "a = [1,2,3,4,5,6,7,8]\n",
    "b = []\n",
    "\n",
    "for i in a:\n",
    "    if i%2 == 0:\n",
    "        b.append(i**2)\n",
    "    else:\n",
    "        c.append(i**3)\n",
    "        \n",
    "print(b)"
   ]
  },
  {
   "cell_type": "code",
   "execution_count": null,
   "id": "779b407c",
   "metadata": {},
   "outputs": [],
   "source": []
  },
  {
   "cell_type": "code",
   "execution_count": null,
   "id": "bd6d47c8",
   "metadata": {},
   "outputs": [],
   "source": []
  },
  {
   "cell_type": "code",
   "execution_count": null,
   "id": "22e27b72",
   "metadata": {},
   "outputs": [],
   "source": []
  }
 ],
 "metadata": {
  "kernelspec": {
   "display_name": "Python 3 (ipykernel)",
   "language": "python",
   "name": "python3"
  },
  "language_info": {
   "codemirror_mode": {
    "name": "ipython",
    "version": 3
   },
   "file_extension": ".py",
   "mimetype": "text/x-python",
   "name": "python",
   "nbconvert_exporter": "python",
   "pygments_lexer": "ipython3",
   "version": "3.10.9"
  }
 },
 "nbformat": 4,
 "nbformat_minor": 5
}
