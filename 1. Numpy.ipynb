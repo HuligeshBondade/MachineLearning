{
 "cells": [
  {
   "cell_type": "markdown",
   "id": "5c34865e",
   "metadata": {},
   "source": [
    "## Numpy: numerical Python"
   ]
  },
  {
   "cell_type": "code",
   "execution_count": 3,
   "id": "a728893a",
   "metadata": {},
   "outputs": [],
   "source": [
    "import numpy as np"
   ]
  },
  {
   "cell_type": "code",
   "execution_count": 4,
   "id": "79fa9d6d",
   "metadata": {},
   "outputs": [
    {
     "name": "stdout",
     "output_type": "stream",
     "text": [
      "1.23.5\n"
     ]
    }
   ],
   "source": [
    "print(np.__version__)"
   ]
  },
  {
   "cell_type": "code",
   "execution_count": 5,
   "id": "70703cda",
   "metadata": {},
   "outputs": [
    {
     "name": "stdout",
     "output_type": "stream",
     "text": [
      "[1 2 3 4 5]\n",
      "1\n",
      "<class 'type'> [1 2 3 4 5]\n",
      "int32\n"
     ]
    }
   ],
   "source": [
    "m = np.array([1,2,3,4,5])\n",
    "print(m)\n",
    "print(m.ndim)    # to check dimension\n",
    "print(type,(m))  # total no of elements\n",
    "print(m.dtype)   "
   ]
  },
  {
   "cell_type": "code",
   "execution_count": 6,
   "id": "8482d521",
   "metadata": {},
   "outputs": [
    {
     "name": "stdout",
     "output_type": "stream",
     "text": [
      "[35.  56.   6.5  7.8]\n",
      "float64\n",
      "[10.   20.   45.56 34.23]\n",
      "float64\n"
     ]
    }
   ],
   "source": [
    "n = np.array([35,56,6.5,7.8])\n",
    "print(n)\n",
    "print(n.dtype)\n",
    "nm = np.array([10,20,45.56,34.23])\n",
    "print(nm)\n",
    "print(nm.dtype)"
   ]
  },
  {
   "cell_type": "code",
   "execution_count": 7,
   "id": "c62329e5",
   "metadata": {},
   "outputs": [
    {
     "name": "stdout",
     "output_type": "stream",
     "text": [
      "[['gmit' 'abeyaantrix' 'ise' 'dsml']]\n",
      "<class 'numpy.ndarray'>\n",
      "<U11\n",
      "(1, 4)\n",
      "['gmit' 'abeyaantrix' '20' '35']\n",
      "<class 'numpy.ndarray'>\n",
      "<U11\n",
      "(4,)\n"
     ]
    }
   ],
   "source": [
    "ms = np.array([['gmit','abeyaantrix','ise','dsml']])\n",
    "print(ms)\n",
    "print(type(ms))\n",
    "print(ms.dtype)\n",
    "print(ms.shape)\n",
    "\n",
    "ms = np.array(['gmit','abeyaantrix',20,35])\n",
    "print(ms)\n",
    "print(type(ms))\n",
    "print(ms.dtype)\n",
    "print(ms.shape)\n"
   ]
  },
  {
   "cell_type": "code",
   "execution_count": 19,
   "id": "46fb6dff",
   "metadata": {},
   "outputs": [
    {
     "name": "stdout",
     "output_type": "stream",
     "text": [
      "(3, 4)\n"
     ]
    }
   ],
   "source": [
    "a = np.array([[1,2,3,4],[9,2,3,8],[1,1,1,2]])\n",
    "print(a.shape)"
   ]
  },
  {
   "cell_type": "markdown",
   "id": "d4eccb74",
   "metadata": {},
   "source": [
    "## Array creation with builtin methods"
   ]
  },
  {
   "cell_type": "code",
   "execution_count": 8,
   "id": "ca663739",
   "metadata": {},
   "outputs": [
    {
     "name": "stdout",
     "output_type": "stream",
     "text": [
      "[0. 0. 0. 0. 0.]\n",
      "\n",
      "[[0. 0. 0. 0.]\n",
      " [0. 0. 0. 0.]\n",
      " [0. 0. 0. 0.]]\n"
     ]
    }
   ],
   "source": [
    "#zeros\n",
    "\n",
    "z1 = np.zeros(5) # creats a 10 array with 5 elements set to zero\n",
    "z2 = np.zeros((3,4))  # creats a 2d array with 3*4 shape and elements set to garbage \n",
    "print(z1)\n",
    "print()\n",
    "print(z2)\n"
   ]
  },
  {
   "cell_type": "code",
   "execution_count": 29,
   "id": "e3743fdd",
   "metadata": {},
   "outputs": [
    {
     "name": "stdout",
     "output_type": "stream",
     "text": [
      "[1. 1. 1. 1. 1.]\n",
      "\n",
      "[[1. 1. 1. 1.]\n",
      " [1. 1. 1. 1.]\n",
      " [1. 1. 1. 1.]]\n"
     ]
    }
   ],
   "source": [
    "#one\n",
    "\n",
    "o1 = np.ones(5) # creats a 10 array with 5 elements set to ones\n",
    "o2 = np.ones((3,4))  # creats a 2d array with 3*4 shape and elements set to garbage \n",
    "print(o1)\n",
    "print()\n",
    "print(o2)"
   ]
  },
  {
   "cell_type": "code",
   "execution_count": 31,
   "id": "1ceda3a8",
   "metadata": {},
   "outputs": [
    {
     "name": "stdout",
     "output_type": "stream",
     "text": [
      "[1. 1. 1. 1. 1.]\n",
      "\n",
      "[[1. 1. 1. 1.]\n",
      " [1. 1. 1. 1.]\n",
      " [1. 1. 1. 1.]]\n"
     ]
    }
   ],
   "source": [
    "#empty\n",
    "\n",
    "e1 = np.empty(5) # creats a 10 array with 5 elements set to garbage\n",
    "e2 = np.empty((3,4))  # creats a 2d array with 3*4 shape and elements set to garbage \n",
    "print(e1)\n",
    "print()\n",
    "print(e2)"
   ]
  },
  {
   "cell_type": "markdown",
   "id": "f02d0b28",
   "metadata": {},
   "source": [
    "## Numpy linearly spaced arrays"
   ]
  },
  {
   "cell_type": "code",
   "execution_count": 33,
   "id": "ffb4dc3c",
   "metadata": {},
   "outputs": [
    {
     "name": "stdout",
     "output_type": "stream",
     "text": [
      "5\n",
      "<class 'numpy.ndarray'>\n",
      "0\n",
      "[0 1 2 3 4]\n"
     ]
    }
   ],
   "source": [
    "b = np.array(5)\n",
    "\n",
    "# start,stop : step\n",
    "# end = stop - step\n",
    "# default start is 0\n",
    "# default stop is length os array\n",
    "# default step is 1\n",
    "\n",
    "print(b)\n",
    "print(type(b))\n",
    "print(b.ndim)\n",
    "\n",
    "c = np.arange(5)\n",
    "print(c)"
   ]
  },
  {
   "cell_type": "code",
   "execution_count": 95,
   "id": "d7fc0945",
   "metadata": {},
   "outputs": [
    {
     "name": "stdout",
     "output_type": "stream",
     "text": [
      "[10 11 12 13 14]\n",
      "[1 3 5 7 9]\n",
      "[5 4 3 2 1]\n",
      "[10 20 30 40 50]\n",
      "[-1 -2 -3 -4 -5 -6]\n",
      "[-1 -2 -3 -4 -5]\n",
      "[0.]\n"
     ]
    }
   ],
   "source": [
    "b1 = np.arange(10,15)\n",
    "print(b1)\n",
    "\n",
    "b2 = np.arange(1,10,2)\n",
    "print(b2)\n",
    "\n",
    "b3 = np.arange(1,6)[::-1]\n",
    "print(b3)\n",
    "\n",
    "b4 = np.arange(10,60,10)\n",
    "print(b4)\n",
    "\n",
    "b5 = np.arange(-6,0)[::-1]\n",
    "print(b5)\n",
    "\n",
    "b6 = np.arange(-1,-6,-1)\n",
    "print(b6)\n",
    "\n",
    "b7 = np.arange(0,0.5,6)\n",
    "print(b7)"
   ]
  },
  {
   "cell_type": "markdown",
   "id": "6224c431",
   "metadata": {},
   "source": [
    "## Linspace"
   ]
  },
  {
   "cell_type": "code",
   "execution_count": 61,
   "id": "60ab1e13",
   "metadata": {},
   "outputs": [
    {
     "name": "stdout",
     "output_type": "stream",
     "text": [
      "[1. 3. 5.]\n",
      "[ 10.  132.5 255.  377.5 500. ]\n",
      "[1. 2. 3. 4. 5.]\n"
     ]
    }
   ],
   "source": [
    "c = np.linspace(1,5,3)\n",
    "print(c)\n",
    "\n",
    "c1 = np.linspace(10,500,5)\n",
    "print(c1)\n",
    "\n",
    "c2 = np.linspace(1,5,5)\n",
    "print(c2)\n",
    "\n",
    "# when you know the step size use arange\n",
    "# when you need specific no of element within specified range use linspace"
   ]
  },
  {
   "cell_type": "markdown",
   "id": "4b20ca57",
   "metadata": {},
   "source": [
    "## Random function to genrate random number"
   ]
  },
  {
   "cell_type": "code",
   "execution_count": 67,
   "id": "3ddee0cf",
   "metadata": {},
   "outputs": [
    {
     "name": "stdout",
     "output_type": "stream",
     "text": [
      "[0.63735653 0.51439238 0.35973029 0.70160513]\n",
      "d=\n",
      " [[0.13386656 0.85260467 0.92429373 0.37850621]\n",
      " [0.37486145 0.71295461 0.20393046 0.35674902]\n",
      " [0.68650024 0.31067499 0.74982701 0.48556519]]\n"
     ]
    }
   ],
   "source": [
    "# uniformly distrubuted random numbers\n",
    "\n",
    "r = np.random.rand(4)  # between 0 t0 1 and only pass the array size\n",
    "print(r)\n",
    "\n",
    "d = np.random.rand(3,4)\n",
    "print('d=\\n',d)"
   ]
  },
  {
   "cell_type": "code",
   "execution_count": 69,
   "id": "e57d8c1d",
   "metadata": {},
   "outputs": [
    {
     "name": "stdout",
     "output_type": "stream",
     "text": [
      "[2 9 4]\n",
      "r2\n",
      " [[12 35 38 10]\n",
      " [39 11 19 14]\n",
      " [40  3  3 42]]\n"
     ]
    }
   ],
   "source": [
    "# integer random numbers\n",
    "\n",
    "r1 = np.random.randint(1,10,3)  #lowlimit, uplimit, and shape of array \n",
    "# between 1 to 10 gen 5 random numbers\n",
    "\n",
    "print(r1)\n",
    "\n",
    "r2 = np.random.randint(1,50,(3,4))\n",
    "print('r2\\n',r2)"
   ]
  },
  {
   "cell_type": "code",
   "execution_count": 70,
   "id": "107d7e46",
   "metadata": {},
   "outputs": [
    {
     "name": "stdout",
     "output_type": "stream",
     "text": [
      "[[100 100 100 100]\n",
      " [100 100 100 100]\n",
      " [100 100 100 100]]\n"
     ]
    }
   ],
   "source": [
    "# full function \n",
    "\n",
    "f = np.full((3,4),100)\n",
    "print(f)"
   ]
  },
  {
   "cell_type": "code",
   "execution_count": 73,
   "id": "6b4d5371",
   "metadata": {},
   "outputs": [
    {
     "name": "stdout",
     "output_type": "stream",
     "text": [
      "r3\n",
      " [[20 39]\n",
      " [41 10]\n",
      " [41 32]]\n"
     ]
    }
   ],
   "source": [
    "# seed for controlling random number genration\n",
    "\n",
    "np.random.seed(23)  # to control randomness or to generate same random number\n",
    "r3 = np.random.randint(1,50,(3,2))\n",
    "print('r3\\n',r3)"
   ]
  },
  {
   "cell_type": "markdown",
   "id": "df9b1bb1",
   "metadata": {},
   "source": [
    "## Array Reshape"
   ]
  },
  {
   "cell_type": "code",
   "execution_count": 74,
   "id": "72ce4d5a",
   "metadata": {},
   "outputs": [
    {
     "name": "stdout",
     "output_type": "stream",
     "text": [
      "[[20 39 41 10 41 32]\n",
      " [46 13 28 40 27 26]]\n",
      "(2, 6)\n"
     ]
    }
   ],
   "source": [
    "np.random.seed(23)\n",
    "ar = np.random.randint(1,50,(2,6))\n",
    "print(ar)\n",
    "print(ar.shape)"
   ]
  },
  {
   "cell_type": "code",
   "execution_count": 84,
   "id": "63a024dc",
   "metadata": {},
   "outputs": [
    {
     "name": "stdout",
     "output_type": "stream",
     "text": [
      "[[20 39 41 10]\n",
      " [41 32 46 13]\n",
      " [28 40 27 26]]\n",
      "(3, 4)\n",
      "2\n",
      "\n",
      "\n",
      "[[20 39 41 10 41 32]\n",
      " [46 13 28 40 27 26]]\n",
      "\n",
      "\n",
      "[[20]\n",
      " [39]\n",
      " [41]\n",
      " [10]\n",
      " [41]\n",
      " [32]\n",
      " [46]\n",
      " [13]\n",
      " [28]\n",
      " [40]\n",
      " [27]\n",
      " [26]]\n"
     ]
    }
   ],
   "source": [
    "ar1 = ar.reshape(3,4) # while reshaping the value must equals to 12 (3,4) (2,6) bcoz org ar is in (2,6)\n",
    "print(ar1)\n",
    "print(ar1.shape)\n",
    "print(ar1.ndim)  # dimension is 2d\n",
    "print('\\n')\n",
    "\n",
    "ar2 = ar.reshape(2,6)\n",
    "print(ar2)\n",
    "print('\\n')\n",
    "\n",
    "ar3 = ar.reshape(12,1)\n",
    "print(ar3)"
   ]
  },
  {
   "cell_type": "code",
   "execution_count": 85,
   "id": "cad837ae",
   "metadata": {},
   "outputs": [
    {
     "name": "stdout",
     "output_type": "stream",
     "text": [
      "1\n",
      "(10,)\n"
     ]
    }
   ],
   "source": [
    "# conver 1d to 2d\n",
    "\n",
    "g = np.arange(1,11)\n",
    "print(g.ndim)\n",
    "print(g.shape)"
   ]
  },
  {
   "cell_type": "code",
   "execution_count": 88,
   "id": "e5cbeacc",
   "metadata": {},
   "outputs": [
    {
     "name": "stdout",
     "output_type": "stream",
     "text": [
      "(5, 2)\n",
      "2\n"
     ]
    }
   ],
   "source": [
    "g1 = g.reshape(5,2)\n",
    "print(g1.shape)\n",
    "print(g1.ndim)"
   ]
  },
  {
   "cell_type": "code",
   "execution_count": 90,
   "id": "f4b7c1a4",
   "metadata": {},
   "outputs": [
    {
     "data": {
      "text/plain": [
       "array([[ 1,  2,  3,  4,  5],\n",
       "       [ 6,  7,  8,  9, 10],\n",
       "       [11, 12, 13, 14, 15],\n",
       "       [16, 17, 18, 19, 20],\n",
       "       [21, 22, 23, 24, 25]])"
      ]
     },
     "execution_count": 90,
     "metadata": {},
     "output_type": "execute_result"
    }
   ],
   "source": [
    "h = np.arange(1,26).reshape(5,5)\n",
    "h"
   ]
  },
  {
   "cell_type": "code",
   "execution_count": 98,
   "id": "4f187244",
   "metadata": {},
   "outputs": [
    {
     "data": {
      "text/plain": [
       "array([ 1,  3,  5,  7,  9, 11, 13, 15, 17, 19, 21, 23, 25, 27, 29, 31, 33,\n",
       "       35, 37, 39, 41, 43, 45, 47, 49])"
      ]
     },
     "execution_count": 98,
     "metadata": {},
     "output_type": "execute_result"
    }
   ],
   "source": [
    "g2 = np.arange(1,50,2)\n",
    "g2"
   ]
  },
  {
   "cell_type": "code",
   "execution_count": 99,
   "id": "ce2b77eb",
   "metadata": {},
   "outputs": [
    {
     "data": {
      "text/plain": [
       "array([[ 1,  3,  5,  7,  9],\n",
       "       [11, 13, 15, 17, 19],\n",
       "       [21, 23, 25, 27, 29],\n",
       "       [31, 33, 35, 37, 39],\n",
       "       [41, 43, 45, 47, 49]])"
      ]
     },
     "execution_count": 99,
     "metadata": {},
     "output_type": "execute_result"
    }
   ],
   "source": [
    "g2 = g2.reshape(5,5)\n",
    "g2"
   ]
  },
  {
   "cell_type": "markdown",
   "id": "ce706ec4",
   "metadata": {},
   "source": [
    "## Accessing techniques"
   ]
  },
  {
   "cell_type": "code",
   "execution_count": 100,
   "id": "c5bf2cdb",
   "metadata": {},
   "outputs": [
    {
     "data": {
      "text/plain": [
       "array([[173,  48, 118, 193, 324],\n",
       "       [252, 196, 360,  10, 212],\n",
       "       [278, 243, 293,  88,  71],\n",
       "       [473,  89, 397, 315, 194],\n",
       "       [487,  40,  88, 175,  89]])"
      ]
     },
     "execution_count": 100,
     "metadata": {},
     "output_type": "execute_result"
    }
   ],
   "source": [
    "np.random.seed(0)\n",
    "i = np.random.randint(1,500,(5,5))\n",
    "i"
   ]
  },
  {
   "cell_type": "code",
   "execution_count": 103,
   "id": "7f5a3fc6",
   "metadata": {},
   "outputs": [
    {
     "name": "stdout",
     "output_type": "stream",
     "text": [
      "173\n",
      "88\n",
      "\n",
      "\n",
      "[473  89 397 315 194]\n",
      "[173  48 118 193 324]\n"
     ]
    }
   ],
   "source": [
    "# row index, column index\n",
    "print(i[0,0])\n",
    "print(i[2,3])\n",
    "print('\\n')\n",
    "\n",
    "#row index\n",
    "print(i[3])\n",
    "print(i[0])"
   ]
  },
  {
   "cell_type": "code",
   "execution_count": null,
   "id": "a79871c0",
   "metadata": {},
   "outputs": [],
   "source": []
  }
 ],
 "metadata": {
  "kernelspec": {
   "display_name": "Python 3 (ipykernel)",
   "language": "python",
   "name": "python3"
  },
  "language_info": {
   "codemirror_mode": {
    "name": "ipython",
    "version": 3
   },
   "file_extension": ".py",
   "mimetype": "text/x-python",
   "name": "python",
   "nbconvert_exporter": "python",
   "pygments_lexer": "ipython3",
   "version": "3.10.9"
  }
 },
 "nbformat": 4,
 "nbformat_minor": 5
}
