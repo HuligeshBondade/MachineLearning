{
 "cells": [
  {
   "cell_type": "markdown",
   "id": "7d2b2d13",
   "metadata": {},
   "source": [
    "# Machine Learning\n",
    "- what is AI\n",
    "    ans:is the simulation of human intelligence process by machine ,especially computer systems.\n",
    "- AI is intelligence behaviour by machine any device that can preciving its envirnoment action"
   ]
  },
  {
   "cell_type": "markdown",
   "id": "71c8cd62",
   "metadata": {},
   "source": [
    "## what is ML\n",
    "- machine learning and deep learning sub set of AI,\n",
    "ans:its is field of study that gives computer ability  to learn without being explictly programmed,by given by arthur samuel.\n",
    "- traditional approach\n",
    "- ML approach\n",
    "ans:A computer program is said to be learn from experience E with respect to some class oof tasj T and performance measure P ,if its performance at task in T,as measured by P ,improves experience E.by TOM Michell\n",
    "- if its performance increses over the time.\n",
    "why use ML\n",
    "1.no human expert\n",
    "    `-industrial /manufacturing control\n",
    "     -mass spectrometer analysis, drug design,astronomic\n",
    "discovery\n",
    "1.black box human experience\n",
    "    -face/handwriteing/sppech recongnition\n",
    "    -driving car ,flying a plane\n",
    "2.rapidily changing phenomena\n",
    "    -credit scoring ,finicial modeling\n",
    "    -diagnosis,fraud detection\n",
    "3.need for customization/personalization\n",
    "    -personalized news reader\n",
    "    -movei/book recommendation"
   ]
  },
  {
   "cell_type": "markdown",
   "id": "ab5b4610",
   "metadata": {},
   "source": [
    "## TYPES OF MACHINE LEARNING\n",
    "-supervise learning\n",
    "    in supervise learning ,we are given a data set and alredy known what are our coorect output should look like ,having the idea that there is a relationship between  the input and output.\n",
    "    \n",
    "we will be having a label dataset\n",
    "  - reggresion\n",
    "  - linear,multivarible,polynomial,logistic\n",
    "  - neutral networks\n",
    "    \n",
    "under supervise learning \n",
    "1. regression in regression try to predict continues value outcome\n",
    "    e.g given the  picture of the person,predict the age is a example regrssion\n",
    "2. in classification we try predict discrete value outcome\n",
    "    e.g given the picture of person, predict the gender of the person is a example of classification\n",
    "    \n",
    "REGRESSION ANLYASIS\n",
    "- unsupervise learning\n",
    "- reinfosement learning"
   ]
  },
  {
   "cell_type": "markdown",
   "id": "40ebf1ae",
   "metadata": {},
   "source": [
    "## classification ML:\n",
    "we try 10 predict discrete valued output using available data\n",
    "\n",
    "- it come under supervised learning\n",
    "- example: given an person image lebelling it as male or female\n",
    "- classification means categorizing/predicting the labelled data into target labels"
   ]
  },
  {
   "cell_type": "markdown",
   "id": "692cbc45",
   "metadata": {},
   "source": [
    "## 3 types of classification\n",
    "\n",
    "1. Binary classification: only 2 possible outcomes / 2 targets / 2 labels\n",
    "2. Multi class classification: we have more than 2 labels / classes / target output\n",
    "3. Multi label classifiaction: each target output has set of possible outcomes"
   ]
  },
  {
   "cell_type": "markdown",
   "id": "c48e94e3",
   "metadata": {},
   "source": [
    "## Classification algorithm\n",
    "\n",
    "### 1.Linear classifier:\n",
    "- a.Naive Bayes algorithm\n",
    "- b.Logistic Regression\n",
    "- c.Fisher Linear discriminant classifier\n",
    "\n",
    "### 2.SVM: support vector classifier\n",
    "- Effective in high dimensional spaces.\n",
    "- Still effective in cases where number of dimensions is greater than the number of samples.\n",
    "- Uses a subset of training points in the decision function (called support vectors), so it is also memory efficient.\n",
    "- Versatile: different Kernel functions can be specified for the decision function. Common kernels are provided, but it is also possible to specify custom kernels.\n",
    "\n",
    "### 3.K neariest neighor KNN classifier\n",
    "- KNN is a basic classification algorithm, easy to understand and easy to implement\n",
    "- KNN is also called as lazy algorithm: it does not train the model, instead it just stores training data and uses the training data and uses the training data during test phase to compute distances\n",
    "- it is one of non parameric ML algorithm: means it does not assume anything about the given data\n",
    "- KNN uses features similarity based on euclidian distance measure to classify the data\n",
    "\n",
    "\n",
    "\n",
    "### 4.Decision tree classifier\n",
    "- id3 stands for iterative dichotomiser 3\n",
    "- it is the first algorithm developes by Ross Quinlan which uses greedy approach to select best attribute for shifting the data\n",
    "- C4.5 (improved version of id3) also created by Ross Quinlan\n",
    "- CART : classification and regression tree devoleped by Breiman can be used for both classification and regression\n",
    "- CHAID : chisquare automatic interaction detection\n",
    "\n",
    "### 5.Random forest classifier\n",
    "- it is an ensemble method based on bagging, which uses decision tree as base algorithm\n",
    "- array of decision tree work paralley to arrive at a final decision\n",
    "\n",
    "### 6. Neural Network classifier\n",
    "- input passes from input layer via activation reaches hidden layer and then finally output layer with learnt output (based on initial weight of model)\n",
    "- compute error between model predicted value as actual value\n",
    "- Backward propagation: using the error computed backward propagate the error so as to updated the weights of model\n",
    "- process of forward and bakward propagation is called one iteration\n",
    "- Iteration: one time forward and backward propagation of single sample in the data\n",
    "- Epoch: one time forward and backward propagation of entire data is called one Epoch\n",
    "- Batch size: no of samples in each iteration\n",
    "- ReLu will be most preferred in hiddden layer"
   ]
  },
  {
   "cell_type": "markdown",
   "id": "6d25dfde",
   "metadata": {},
   "source": [
    "## Terminologies used in classsification\n",
    "\n",
    "- classifier: it as an algorithm used to perform classification task\n",
    "- classification model: classification model draws conclusion from input data given training phase,and this model uses classifier to draw the conclusion from input data\n",
    "- features: data used during training"
   ]
  }
 ],
 "metadata": {
  "kernelspec": {
   "display_name": "Python 3 (ipykernel)",
   "language": "python",
   "name": "python3"
  },
  "language_info": {
   "codemirror_mode": {
    "name": "ipython",
    "version": 3
   },
   "file_extension": ".py",
   "mimetype": "text/x-python",
   "name": "python",
   "nbconvert_exporter": "python",
   "pygments_lexer": "ipython3",
   "version": "3.10.9"
  }
 },
 "nbformat": 4,
 "nbformat_minor": 5
}
