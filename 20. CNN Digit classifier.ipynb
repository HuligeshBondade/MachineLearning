{
 "cells": [
  {
   "cell_type": "code",
   "execution_count": null,
   "id": "1917ff06",
   "metadata": {},
   "outputs": [],
   "source": [
    "# simple CNN for the MNIST dataset\n",
    "\n",
    "import numpy as np\n",
    "import matplotlib.pyplot as plt\n",
    "from keras.datasets import mnist\n",
    "from keras.models import Sequential\n",
    "from keras.layers import Dense\n",
    "from keras.utils import to_categorical\n",
    "from keras.layers import Convolution2D\n",
    "from keras.layers import MaxPooling2D\n",
    "from keras.layers import Flatten\n",
    "\n",
    "# id array, without extracting any features, take whole image and covert to 1 dimension"
   ]
  },
  {
   "cell_type": "code",
   "execution_count": 14,
   "id": "6a2fe9cd",
   "metadata": {},
   "outputs": [],
   "source": [
    "# load data\n",
    "(x_train, y_train),(x_test, y_test) = mnist.load_data()"
   ]
  },
  {
   "cell_type": "code",
   "execution_count": 15,
   "id": "3871ebbc",
   "metadata": {},
   "outputs": [
    {
     "data": {
      "text/plain": [
       "8"
      ]
     },
     "execution_count": 15,
     "metadata": {},
     "output_type": "execute_result"
    }
   ],
   "source": [
    "# x_train training set with 60000 images\n",
    "# x_test test set 10000 images\n",
    "# y_train training set labels for training images\n",
    "# y_test test set image lables\n",
    "\n",
    "y_train[545]"
   ]
  },
  {
   "cell_type": "code",
   "execution_count": 5,
   "id": "d2fcda4b",
   "metadata": {},
   "outputs": [
    {
     "data": {
      "image/png": "[encoded data removed]",
      "text/plain": [
       "<Figure size 640x480 with 4 Axes>"
      ]
     },
     "metadata": {},
     "output_type": "display_data"
    }
   ],
   "source": [
    "# plot 4 images as gray scale\n",
    "\n",
    "plt.subplot(221)\n",
    "plt.imshow(x_train[50], cmap = 'gray')\n",
    "plt.subplot(222)\n",
    "plt.imshow(x_train[545], cmap = 'gray')\n",
    "plt.subplot(223)\n",
    "plt.imshow(x_train[45000])  # without color map\n",
    "plt.subplot(224)\n",
    "plt.imshow(x_train[59999], cmap = plt.get_cmap('gray'))\n",
    "plt.show()"
   ]
  },
  {
   "cell_type": "code",
   "execution_count": 6,
   "id": "f49c278e",
   "metadata": {},
   "outputs": [
    {
     "data": {
      "text/plain": [
       "8"
      ]
     },
     "execution_count": 6,
     "metadata": {},
     "output_type": "execute_result"
    }
   ],
   "source": [
    "y_train[545]"
   ]
  },
  {
   "cell_type": "code",
   "execution_count": 7,
   "id": "f4129fa1",
   "metadata": {},
   "outputs": [
    {
     "data": {
      "text/plain": [
       "(60000, 28, 28)"
      ]
     },
     "execution_count": 7,
     "metadata": {},
     "output_type": "execute_result"
    }
   ],
   "source": [
    "x_train.shape"
   ]
  },
  {
   "cell_type": "markdown",
   "id": "45945a77",
   "metadata": {},
   "source": [
    "# Preprocessing step"
   ]
  },
  {
   "cell_type": "code",
   "execution_count": 23,
   "id": "7da9634c",
   "metadata": {},
   "outputs": [],
   "source": [
    "# normalize inputs from 0.255 to 0.1\n",
    "x_train = x_train / 255\n",
    "x_test = x_test / 255"
   ]
  },
  {
   "cell_type": "code",
   "execution_count": 24,
   "id": "de27daeb",
   "metadata": {},
   "outputs": [
    {
     "name": "stdout",
     "output_type": "stream",
     "text": [
      "(60000, 28, 28) (10000, 28, 28)\n"
     ]
    }
   ],
   "source": [
    "print(x_train.shape, x_test.shape)"
   ]
  },
  {
   "cell_type": "code",
   "execution_count": 25,
   "id": "803a5b47",
   "metadata": {},
   "outputs": [],
   "source": [
    "y_train = to_categorical(y_train)  # converting to categories\n",
    "y_test = to_categorical(y_test)"
   ]
  },
  {
   "cell_type": "code",
   "execution_count": 26,
   "id": "bb063635",
   "metadata": {},
   "outputs": [
    {
     "name": "stdout",
     "output_type": "stream",
     "text": [
      "[0. 0. 0. 0. 1. 0. 0. 0. 0. 0.]\n"
     ]
    }
   ],
   "source": [
    "print(y_train[20])"
   ]
  },
  {
   "cell_type": "markdown",
   "id": "75823a88",
   "metadata": {},
   "source": [
    "# Model building"
   ]
  },
  {
   "cell_type": "code",
   "execution_count": 27,
   "id": "4847197c",
   "metadata": {},
   "outputs": [],
   "source": [
    "# create the object using sequential\n",
    "# add input layer, add hidden layer, add the output layer\n",
    "# choose the suitable activation function \n",
    "# add optimizer and matrices"
   ]
  },
  {
   "cell_type": "code",
   "execution_count": 28,
   "id": "72f8f469",
   "metadata": {},
   "outputs": [
    {
     "name": "stdout",
     "output_type": "stream",
     "text": [
      "Model: \"sequential_5\"\n",
      "_________________________________________________________________\n",
      " Layer (type)                Output Shape              Param #   \n",
      "=================================================================\n",
      " conv2d_1 (Conv2D)           (None, 26, 26, 16)        160       \n",
      "                                                                 \n",
      " max_pooling2d_1 (MaxPoolin  (None, 13, 13, 16)        0         \n",
      " g2D)                                                            \n",
      "                                                                 \n",
      " flatten_1 (Flatten)         (None, 2704)              0         \n",
      "                                                                 \n",
      " dense_2 (Dense)             (None, 128)               346240    \n",
      "                                                                 \n",
      " dense_3 (Dense)             (None, 10)                1290      \n",
      "                                                                 \n",
      "=================================================================\n",
      "Total params: 347690 (1.33 MB)\n",
      "Trainable params: 347690 (1.33 MB)\n",
      "Non-trainable params: 0 (0.00 Byte)\n",
      "_________________________________________________________________\n"
     ]
    }
   ],
   "source": [
    "cnn_Digit_model = Sequential()\n",
    "cnn_Digit_model.add(Convolution2D(16, kernel_size=(3,3), input_shape=(28,28,1), activation='relu')) # conv layer,\n",
    "\n",
    "# conv layer, 16 no of filter, 3,3 filter size\n",
    "cnn_Digit_model.add(MaxPooling2D(pool_size = (2,2))) # maxpool layer\n",
    "cnn_Digit_model.add(Flatten()) # flatten layer\n",
    "cnn_Digit_model.add(Dense(units = 128, activation='relu')) # output layer\n",
    "cnn_Digit_model.add(Dense(units = 10, activation='softmax'))\n",
    "# compile model\n",
    "\n",
    "cnn_Digit_model.compile(loss='categorical_crossentropy', optimizer = 'adam', metrics = ['accuracy'])\n",
    "# since no. of classes more than 2 we use categorical crossentropy function for loss measurement\n",
    "# adam: error minimizer(optimizer)\n",
    "# accuracy,try to achieve better accuracy\n",
    "\n",
    "cnn_Digit_model.summary()"
   ]
  },
  {
   "cell_type": "code",
   "execution_count": 29,
   "id": "4e414a11",
   "metadata": {},
   "outputs": [
    {
     "name": "stdout",
     "output_type": "stream",
     "text": [
      "Epoch 1/5\n",
      "300/300 [==============================] - 23s 57ms/step - loss: 0.2971 - accuracy: 0.9200 - val_loss: 0.1170 - val_accuracy: 0.9666\n",
      "Epoch 2/5\n",
      "300/300 [==============================] - 17s 55ms/step - loss: 0.0921 - accuracy: 0.9739 - val_loss: 0.0747 - val_accuracy: 0.9762\n",
      "Epoch 3/5\n",
      "300/300 [==============================] - 15s 50ms/step - loss: 0.0627 - accuracy: 0.9816 - val_loss: 0.0591 - val_accuracy: 0.9802\n",
      "Epoch 4/5\n",
      "300/300 [==============================] - 15s 49ms/step - loss: 0.0487 - accuracy: 0.9856 - val_loss: 0.0484 - val_accuracy: 0.9839\n",
      "Epoch 5/5\n",
      "300/300 [==============================] - 15s 49ms/step - loss: 0.0366 - accuracy: 0.9893 - val_loss: 0.0435 - val_accuracy: 0.9845\n"
     ]
    },
    {
     "data": {
      "text/plain": [
       "<keras.src.callbacks.History at 0x1ec207664d0>"
      ]
     },
     "execution_count": 29,
     "metadata": {},
     "output_type": "execute_result"
    }
   ],
   "source": [
    "cnn_Digit_model.fit(x_train, y_train, validation_data=(x_test, y_test), epochs = 5, batch_size = 200)"
   ]
  },
  {
   "cell_type": "code",
   "execution_count": 31,
   "id": "e861c759",
   "metadata": {},
   "outputs": [
    {
     "name": "stdout",
     "output_type": "stream",
     "text": [
      "313/313 [==============================] - 2s 5ms/step - loss: 0.0435 - accuracy: 0.9845\n"
     ]
    },
    {
     "data": {
      "text/plain": [
       "[0.0434543639421463, 0.984499990940094]"
      ]
     },
     "execution_count": 31,
     "metadata": {},
     "output_type": "execute_result"
    }
   ],
   "source": [
    "scores = cnn_Digit_model.evaluate(x_test, y_test) # test result\n",
    "scores"
   ]
  },
  {
   "cell_type": "code",
   "execution_count": 32,
   "id": "8469dfce",
   "metadata": {},
   "outputs": [
    {
     "name": "stdout",
     "output_type": "stream",
     "text": [
      "loss = 0.0434543639421463 accuracy = 0.984499990940094\n"
     ]
    }
   ],
   "source": [
    "print('loss =', scores[0], 'accuracy =', scores[1])"
   ]
  },
  {
   "cell_type": "code",
   "execution_count": 35,
   "id": "83416b2f",
   "metadata": {},
   "outputs": [
    {
     "name": "stdout",
     "output_type": "stream",
     "text": [
      "1/1 [==============================] - 0s 26ms/step\n"
     ]
    },
    {
     "data": {
      "text/plain": [
       "array([[3.5715583e-04, 9.9848241e-01, 1.7473711e-04, 1.0236795e-06,\n",
       "        2.4854936e-04, 1.0893577e-05, 7.9001969e-05, 1.5777227e-04,\n",
       "        4.8681218e-04, 1.6335902e-06]], dtype=float32)"
      ]
     },
     "execution_count": 35,
     "metadata": {},
     "output_type": "execute_result"
    },
    {
     "data": {
      "image/png": "[encoded data removed]",
      "text/plain": [
       "<Figure size 640x480 with 1 Axes>"
      ]
     },
     "metadata": {},
     "output_type": "display_data"
    }
   ],
   "source": [
    "# single image test, select any image from test data\n",
    "plt.imshow(x_test[770], cmap = plt.get_cmap('gray'))\n",
    "r1 = cnn_Digit_model.predict(x_test[7000:7001])\n",
    "r1"
   ]
  },
  {
   "cell_type": "code",
   "execution_count": 38,
   "id": "95d08590",
   "metadata": {},
   "outputs": [
    {
     "name": "stdout",
     "output_type": "stream",
     "text": [
      "[1]\n"
     ]
    }
   ],
   "source": [
    "r3=np.argmax(r1,axis=1) # get the location of maximum probability and location will be desired result\n",
    "print(r3)"
   ]
  },
  {
   "cell_type": "code",
   "execution_count": 40,
   "id": "d9e5cc33",
   "metadata": {},
   "outputs": [
    {
     "data": {
      "text/plain": [
       "<matplotlib.image.AxesImage at 0x1ec2f4ccca0>"
      ]
     },
     "execution_count": 40,
     "metadata": {},
     "output_type": "execute_result"
    },
    {
     "data": {
      "image/png": "[encoded data removed]",
      "text/plain": [
       "<Figure size 640x480 with 4 Axes>"
      ]
     },
     "metadata": {},
     "output_type": "display_data"
    }
   ],
   "source": [
    "# plot 4 images as gray scale\n",
    "plt.subplot(231)\n",
    "plt.imshow(x_test[33], cmap=plt.get_cmap('gray'))\n",
    "plt.subplot(232)\n",
    "plt.imshow(x_test[34], cmap=plt.get_cmap('gray'))\n",
    "plt.subplot(233)\n",
    "plt.imshow(x_test[35], cmap=plt.get_cmap('gray'))\n",
    "plt.subplot(234)\n",
    "plt.imshow(x_test[36], cmap=plt.get_cmap('gray'))\n",
    "#plt.subplot(235)\n",
    "#plt.imshow(X_test[4], cmap=plt.get_cmap('gray'))\n",
    "#plt.subplot(236)\n",
    "#plt.imshow(X_test[5], cmap=plt.get_cmap('gray'))"
   ]
  },
  {
   "cell_type": "code",
   "execution_count": 41,
   "id": "6aaa1612",
   "metadata": {},
   "outputs": [
    {
     "name": "stdout",
     "output_type": "stream",
     "text": [
      "[1]\n"
     ]
    }
   ],
   "source": [
    "r3=np.argmax(r1,axis=1) # get the location of maximum probability and location will be desired result\n",
    "print(r3)"
   ]
  },
  {
   "cell_type": "code",
   "execution_count": null,
   "id": "b34f8481",
   "metadata": {},
   "outputs": [],
   "source": []
  }
 ],
 "metadata": {
  "kernelspec": {
   "display_name": "Python 3 (ipykernel)",
   "language": "python",
   "name": "python3"
  },
  "language_info": {
   "codemirror_mode": {
    "name": "ipython",
    "version": 3
   },
   "file_extension": ".py",
   "mimetype": "text/x-python",
   "name": "python",
   "nbconvert_exporter": "python",
   "pygments_lexer": "ipython3",
   "version": "3.10.9"
  }
 },
 "nbformat": 4,
 "nbformat_minor": 5
}
